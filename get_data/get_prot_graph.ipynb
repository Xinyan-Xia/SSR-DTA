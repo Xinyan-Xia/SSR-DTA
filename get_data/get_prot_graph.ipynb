{
 "cells": [
  {
   "cell_type": "code",
   "execution_count": 1,
   "id": "73a53b7e-1144-43fc-b405-b10f84384fa8",
   "metadata": {},
   "outputs": [],
   "source": [
    "from Bio.PDB import *\n",
    "from Bio.PDB import PDBParser\n",
    "from Bio.PDB.SASA import ShrakeRupley\n",
    "from Bio.PDB.DSSP import DSSP\n",
    "import json\n",
    "import numpy as np\n",
    "from torch_geometric.data import Data\n",
    "import torch"
   ]
  },
  {
   "cell_type": "code",
   "execution_count": null,
   "id": "9b105427",
   "metadata": {},
   "outputs": [],
   "source": [
    "AAPHY7 = json.load(open(\"aa_phy7.txt\"))\n",
    "blosum62 = json.load(open(\"BLOSUM62_dim23.txt\"))"
   ]
  },
  {
   "cell_type": "code",
   "execution_count": null,
   "id": "e1dbe485-3953-4d73-a89a-847add5c07eb",
   "metadata": {},
   "outputs": [],
   "source": [
    "one_letter ={'VAL':'V', 'ILE':'I', 'LEU':'L', 'GLU':'E', 'GLN':'Q', \\\n",
    "'ASP':'D', 'ASN':'N', 'HIS':'H', 'TRP':'W', 'PHE':'F', 'TYR':'Y',    \\\n",
    "'ARG':'R', 'LYS':'K', 'SER':'S', 'THR':'T', 'MET':'M', 'ALA':'A',    \\\n",
    "'GLY':'G', 'PRO':'P', 'CYS':'C'}"
   ]
  },
  {
   "cell_type": "code",
   "execution_count": null,
   "id": "878a4b38-aa9c-4b1d-a30d-2b2fd141aed4",
   "metadata": {},
   "outputs": [],
   "source": [
    "def one_hot_encoding_unk(x, allowable_set):\n",
    "    if x not in allowable_set:\n",
    "        x = allowable_set[-1]\n",
    "    return list(map(lambda s: x == s, allowable_set))"
   ]
  },
  {
   "cell_type": "code",
   "execution_count": null,
   "id": "e78db91a-ae62-4031-a6ef-d850a24f3762",
   "metadata": {},
   "outputs": [],
   "source": [
    "def pdb_to_graph(name, path):\n",
    "    p = PDBParser()\n",
    "    chain = p.get_structure(name, f\"{path}{name}.pdb\")[0][\"A\"]\n",
    "    structure =  p.get_structure(name, f\"{name}.pdb\")\n",
    "    model = structure[0]\n",
    "    dssp = DSSP(model, f\"{name}.pdb\", dssp='../../../miniconda3/envs/rdkit/bin/mkdssp')\n",
    "\n",
    "    features = []\n",
    "    pos = []\n",
    "    for index, res in enumerate(chain):\n",
    "        resname = (one_letter[res.get_resname()])\n",
    "        feature = np.array(list(dssp[index][3:6]) + \n",
    "        one_hot_encoding_unk(dssp[index][2], ['-', 'B', 'E', 'G', 'H', 'S', 'T']) +\n",
    "        AAPHY7[resname] + \n",
    "        blosum62[resname])\n",
    "        features.append(feature)        \n",
    "        pos.append(np.array(list(res['CA'].get_vector())))\n",
    "    features = torch.Tensor(np.array(features)).float()\n",
    "    \n",
    "    dis = np.array([np.sqrt(((p-pos)*(p-pos)).sum(-1))  for p in pos])\n",
    "    edge_idx = torch.Tensor(np.array(np.where(dis<=6))).long()\n",
    "    \n",
    "    g = Data(x = features, \n",
    "             edge_idx=torch.Tensor(np.array(np.where(dis<=6))).long()\n",
    "            )\n",
    "    return g\n",
    "    "
   ]
  },
  {
   "cell_type": "code",
   "execution_count": null,
   "id": "301b7f65-f7ec-48c2-9c80-e1deaa9b17d4",
   "metadata": {},
   "outputs": [],
   "source": []
  }
 ],
 "metadata": {
  "kernelspec": {
   "display_name": "Python 3 (ipykernel)",
   "language": "python",
   "name": "python3"
  },
  "language_info": {
   "codemirror_mode": {
    "name": "ipython",
    "version": 3
   },
   "file_extension": ".py",
   "mimetype": "text/x-python",
   "name": "python",
   "nbconvert_exporter": "python",
   "pygments_lexer": "ipython3",
   "version": "3.8.10"
  }
 },
 "nbformat": 4,
 "nbformat_minor": 5
}
